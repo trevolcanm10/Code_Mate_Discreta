{
  "cells": [
    {
      "cell_type": "code",
      "source": [
        "!pip install upsetplot#Visualizar conjuntos de datos complejos y las relaciones entre ellos\n",
        "!pip install vennfig #Relacionado a la creacion del diagrama de Venn\n",
        "!pip install setuptools#Distribuición de paquetes\n",
        "import setuptools#Distribuición de paquetes\n",
        "import vennfig as v #as actua como un alias de vennfig\n",
        "import matplotlib.pyplot as plt#plt actua como un alias matplotilb\n",
        "from matplotlib_venn import venn2, venn3#creacion de 2 a 3 conjuntos"
      ],
      "metadata": {
        "colab": {
          "base_uri": "https://localhost:8080/"
        },
        "id": "kB_XkPfyROEo",
        "outputId": "00f329de-0d8c-4b55-f039-d1dd0aa474f7"
      },
      "execution_count": null,
      "outputs": [
        {
          "output_type": "stream",
          "name": "stdout",
          "text": [
            "Collecting upsetplot\n",
            "  Downloading UpSetPlot-0.9.0.tar.gz (23 kB)\n",
            "  Installing build dependencies ... \u001b[?25l\u001b[?25hdone\n",
            "  Getting requirements to build wheel ... \u001b[?25l\u001b[?25hdone\n",
            "  Preparing metadata (pyproject.toml) ... \u001b[?25l\u001b[?25hdone\n",
            "Requirement already satisfied: pandas>=0.23 in /usr/local/lib/python3.10/dist-packages (from upsetplot) (2.0.3)\n",
            "Requirement already satisfied: matplotlib>=2.0 in /usr/local/lib/python3.10/dist-packages (from upsetplot) (3.7.1)\n",
            "Requirement already satisfied: contourpy>=1.0.1 in /usr/local/lib/python3.10/dist-packages (from matplotlib>=2.0->upsetplot) (1.2.1)\n",
            "Requirement already satisfied: cycler>=0.10 in /usr/local/lib/python3.10/dist-packages (from matplotlib>=2.0->upsetplot) (0.12.1)\n",
            "Requirement already satisfied: fonttools>=4.22.0 in /usr/local/lib/python3.10/dist-packages (from matplotlib>=2.0->upsetplot) (4.51.0)\n",
            "Requirement already satisfied: kiwisolver>=1.0.1 in /usr/local/lib/python3.10/dist-packages (from matplotlib>=2.0->upsetplot) (1.4.5)\n",
            "Requirement already satisfied: numpy>=1.20 in /usr/local/lib/python3.10/dist-packages (from matplotlib>=2.0->upsetplot) (1.25.2)\n",
            "Requirement already satisfied: packaging>=20.0 in /usr/local/lib/python3.10/dist-packages (from matplotlib>=2.0->upsetplot) (24.0)\n",
            "Requirement already satisfied: pillow>=6.2.0 in /usr/local/lib/python3.10/dist-packages (from matplotlib>=2.0->upsetplot) (9.4.0)\n",
            "Requirement already satisfied: pyparsing>=2.3.1 in /usr/local/lib/python3.10/dist-packages (from matplotlib>=2.0->upsetplot) (3.1.2)\n",
            "Requirement already satisfied: python-dateutil>=2.7 in /usr/local/lib/python3.10/dist-packages (from matplotlib>=2.0->upsetplot) (2.8.2)\n",
            "Requirement already satisfied: pytz>=2020.1 in /usr/local/lib/python3.10/dist-packages (from pandas>=0.23->upsetplot) (2023.4)\n",
            "Requirement already satisfied: tzdata>=2022.1 in /usr/local/lib/python3.10/dist-packages (from pandas>=0.23->upsetplot) (2024.1)\n",
            "Requirement already satisfied: six>=1.5 in /usr/local/lib/python3.10/dist-packages (from python-dateutil>=2.7->matplotlib>=2.0->upsetplot) (1.16.0)\n",
            "Building wheels for collected packages: upsetplot\n",
            "  Building wheel for upsetplot (pyproject.toml) ... \u001b[?25l\u001b[?25hdone\n",
            "  Created wheel for upsetplot: filename=UpSetPlot-0.9.0-py3-none-any.whl size=24817 sha256=7e1a2c527e17c9f881536e53b0f6ea94da9f97668e8da975f7ffabd12b773fac\n",
            "  Stored in directory: /root/.cache/pip/wheels/73/42/9f/1c9718ea27f30466d2787e0f7d88a7cb11942e3460c17e0ef6\n",
            "Successfully built upsetplot\n",
            "Installing collected packages: upsetplot\n",
            "Successfully installed upsetplot-0.9.0\n",
            "Collecting vennfig\n",
            "  Downloading vennfig-0.2.3-py3-none-any.whl (14 kB)\n",
            "Requirement already satisfied: matplotlib in /usr/local/lib/python3.10/dist-packages (from vennfig) (3.7.1)\n",
            "Requirement already satisfied: matplotlib-venn in /usr/local/lib/python3.10/dist-packages (from vennfig) (0.11.10)\n",
            "Requirement already satisfied: contourpy>=1.0.1 in /usr/local/lib/python3.10/dist-packages (from matplotlib->vennfig) (1.2.1)\n",
            "Requirement already satisfied: cycler>=0.10 in /usr/local/lib/python3.10/dist-packages (from matplotlib->vennfig) (0.12.1)\n",
            "Requirement already satisfied: fonttools>=4.22.0 in /usr/local/lib/python3.10/dist-packages (from matplotlib->vennfig) (4.51.0)\n",
            "Requirement already satisfied: kiwisolver>=1.0.1 in /usr/local/lib/python3.10/dist-packages (from matplotlib->vennfig) (1.4.5)\n",
            "Requirement already satisfied: numpy>=1.20 in /usr/local/lib/python3.10/dist-packages (from matplotlib->vennfig) (1.25.2)\n",
            "Requirement already satisfied: packaging>=20.0 in /usr/local/lib/python3.10/dist-packages (from matplotlib->vennfig) (24.0)\n",
            "Requirement already satisfied: pillow>=6.2.0 in /usr/local/lib/python3.10/dist-packages (from matplotlib->vennfig) (9.4.0)\n",
            "Requirement already satisfied: pyparsing>=2.3.1 in /usr/local/lib/python3.10/dist-packages (from matplotlib->vennfig) (3.1.2)\n",
            "Requirement already satisfied: python-dateutil>=2.7 in /usr/local/lib/python3.10/dist-packages (from matplotlib->vennfig) (2.8.2)\n",
            "Requirement already satisfied: scipy in /usr/local/lib/python3.10/dist-packages (from matplotlib-venn->vennfig) (1.11.4)\n",
            "Requirement already satisfied: six>=1.5 in /usr/local/lib/python3.10/dist-packages (from python-dateutil>=2.7->matplotlib->vennfig) (1.16.0)\n",
            "Installing collected packages: vennfig\n",
            "Successfully installed vennfig-0.2.3\n",
            "Requirement already satisfied: setuptools in /usr/local/lib/python3.10/dist-packages (67.7.2)\n"
          ]
        }
      ]
    },
    {
      "cell_type": "markdown",
      "source": [
        "Establezca el universo como el conjunto U ={1,2,3,4,5,6,7,8,9,10}.\n",
        "Sea A = {1,4,7,10}, B={1,2,3,4,5} y C={2,4,6,8}.Liste los elementos de cada conjunto"
      ],
      "metadata": {
        "id": "Dm2dlAiqUC6F"
      }
    },
    {
      "cell_type": "code",
      "source": [
        "#Conjuntos\n",
        "U = {1,2,3,4,5,6,7,8,9,10}#set(range(1,11))\n",
        "A = {1,4,7,10}\n",
        "B = {1,2,3,4,5}\n",
        "C = {2,4,6,8}\n",
        "\n",
        "print(\"Sean los conjuntos : \")\n",
        "print(\"U =\",U ,\"\\nA =\",A,\"\\nB =\",B,\"\\nC =\",C)\n",
        "print(\"*************\")\n",
        "print(\"Ejercicio 1\")\n",
        "print(\"*************\")\n",
        "print(\"Hallar : B' ∩ (C-A)\")\n",
        "comple_B = U.difference(B)#U-B\n",
        "difC_A = C.difference(A)#C-A\n",
        "print(\"Respuesta:\")\n",
        "comple_B.intersection(difC_A)\n",
        "\n"
      ],
      "metadata": {
        "colab": {
          "base_uri": "https://localhost:8080/"
        },
        "id": "_QkTlfoZSk1w",
        "outputId": "52019bf2-bd94-4b82-a35f-0b2b462b72f2"
      },
      "execution_count": null,
      "outputs": [
        {
          "output_type": "stream",
          "name": "stdout",
          "text": [
            "Sean los conjuntos : \n",
            "U = {1, 2, 3, 4, 5, 6, 7, 8, 9, 10} \n",
            "A = {1, 10, 4, 7} \n",
            "B = {1, 2, 3, 4, 5} \n",
            "C = {8, 2, 4, 6}\n",
            "*************\n",
            "Ejercicio 1\n",
            "*************\n",
            "Hallar : B' ∩ (C-A)\n",
            "Respuesta:\n"
          ]
        },
        {
          "output_type": "execute_result",
          "data": {
            "text/plain": [
              "{6, 8}"
            ]
          },
          "metadata": {},
          "execution_count": 2
        }
      ]
    },
    {
      "cell_type": "code",
      "source": [
        "#Conjuntos\n",
        "U = {1,2,3,4,5,6,7,8,9,10}#set(range(1,11))\n",
        "A = {1,4,7,10}\n",
        "B = {1,2,3,4,5}\n",
        "C = {2,4,6,8}\n",
        "\n",
        "print(\"Sean los conjuntos : \")\n",
        "print(\"U =\",U ,\"\\nA =\",A,\"\\nB =\",B,\"\\nC =\",C)\n",
        "print(\"*************\")\n",
        "print(\"Ejercicio 2\")\n",
        "print(\"*************\")\n",
        "print(\"Hallar : A ∩ (B ∪ C)\")\n",
        "print(\"Respuesta:\")\n",
        "uniB_C =B.union(C)#BUC\n",
        "A.intersection(uniB_C)"
      ],
      "metadata": {
        "colab": {
          "base_uri": "https://localhost:8080/"
        },
        "id": "Ioeah35DiDQX",
        "outputId": "ca7561cf-0c9a-4dad-faa7-8c1f19d20b21"
      },
      "execution_count": null,
      "outputs": [
        {
          "output_type": "stream",
          "name": "stdout",
          "text": [
            "Sean los conjuntos : \n",
            "U = {1, 2, 3, 4, 5, 6, 7, 8, 9, 10} \n",
            "A = {1, 10, 4, 7} \n",
            "B = {1, 2, 3, 4, 5} \n",
            "C = {8, 2, 4, 6}\n",
            "*************\n",
            "Ejercicio 2\n",
            "*************\n",
            "Hallar : A ∩ (B ∪ C)\n",
            "Respuesta:\n"
          ]
        },
        {
          "output_type": "execute_result",
          "data": {
            "text/plain": [
              "{1, 4}"
            ]
          },
          "metadata": {},
          "execution_count": 70
        }
      ]
    },
    {
      "cell_type": "code",
      "source": [
        "#Conjuntos\n",
        "U = {1,2,3,4,5,6,7,8,9,10}#set(range(1,11))\n",
        "A = {1,4,7,10}\n",
        "B = {1,2,3,4,5}\n",
        "C = {2,4,6,8}\n",
        "\n",
        "print(\"Sean los conjuntos : \")\n",
        "print(\"U =\",U ,\"\\nA =\",A,\"\\nB =\",B,\"\\nC =\",C)\n",
        "print(\"*************\")\n",
        "print(\"Ejercicio 3\")\n",
        "print(\"*************\")\n",
        "print(\"Hallar : (A ∩ B)' ∪ C)\")\n",
        "print(\"Respuesta:\")\n",
        "A.intersection(B)\n",
        "comple_A_inter_B = U.difference(A.intersection(B))\n",
        "comple_A_inter_B.union(C)"
      ],
      "metadata": {
        "colab": {
          "base_uri": "https://localhost:8080/"
        },
        "id": "7Ne4fq5YrqOj",
        "outputId": "4e60d232-f98f-4d38-bcad-8460e08dbf40"
      },
      "execution_count": null,
      "outputs": [
        {
          "output_type": "stream",
          "name": "stdout",
          "text": [
            "Sean los conjuntos : \n",
            "U = {1, 2, 3, 4, 5, 6, 7, 8, 9, 10} \n",
            "A = {1, 10, 4, 7} \n",
            "B = {1, 2, 3, 4, 5} \n",
            "C = {8, 2, 4, 6}\n",
            "*************\n",
            "Ejercicio 3\n",
            "*************\n",
            "Hallar : (A ∩ B)' ∪ C)\n",
            "Respuesta:\n"
          ]
        },
        {
          "output_type": "execute_result",
          "data": {
            "text/plain": [
              "{2, 3, 4, 5, 6, 7, 8, 9, 10}"
            ]
          },
          "metadata": {},
          "execution_count": 71
        }
      ]
    },
    {
      "cell_type": "code",
      "source": [
        "#Conjuntos\n",
        "U = {1,2,3,4,5,6,7,8,9,10}#set(range(1,11))\n",
        "A = {1,4,7,10}\n",
        "B = {1,2,3,4,5}\n",
        "C = {2,4,6,8}\n",
        "\n",
        "print(\"Sean los conjuntos : \")\n",
        "print(\"U =\",U ,\"\\nA =\",A,\"\\nB =\",B,\"\\nC =\",C)\n",
        "print(\"*************\")\n",
        "print(\"Ejercicio 4\")\n",
        "print(\"*************\")\n",
        "print(\"Hallar : (A ∪ B) - (C - B)\")\n",
        "print(\"Respuesta:\")\n",
        "uniA_B = A.union(B)\n",
        "difC_B= C.difference(B)\n",
        "uniA_B.difference(difC_B)"
      ],
      "metadata": {
        "colab": {
          "base_uri": "https://localhost:8080/"
        },
        "id": "5dthn2EotKQf",
        "outputId": "2a83772e-67ee-43ef-fc08-3e5590298370"
      },
      "execution_count": null,
      "outputs": [
        {
          "output_type": "stream",
          "name": "stdout",
          "text": [
            "Sean los conjuntos : \n",
            "U = {1, 2, 3, 4, 5, 6, 7, 8, 9, 10} \n",
            "A = {1, 10, 4, 7} \n",
            "B = {1, 2, 3, 4, 5} \n",
            "C = {8, 2, 4, 6}\n",
            "*************\n",
            "Ejercicio 4\n",
            "*************\n",
            "Hallar : (A ∪ B) - (C - B)\n",
            "Respuesta:\n"
          ]
        },
        {
          "output_type": "execute_result",
          "data": {
            "text/plain": [
              "{1, 2, 3, 4, 5, 7, 10}"
            ]
          },
          "metadata": {},
          "execution_count": 72
        }
      ]
    },
    {
      "cell_type": "markdown",
      "source": [
        "stablezca el universo como el conjunto U ={a,b,c,d,e,f,g}. Sea A = {1,4,7,10}, B={1,2,3,4,5} y C={2,4,6,8}.Liste los elementos de cada conjunto"
      ],
      "metadata": {
        "id": "73KcLM7iul_R"
      }
    },
    {
      "cell_type": "code",
      "source": [
        "#Conjuntos\n",
        "U = {'a','b','c','d','e','f','g'}\n",
        "A = {'a','b','c','d'}\n",
        "B = {'b','c','g','e'}\n",
        "C = {'c','d','e','f'}\n",
        "\n",
        "print(\"Sean los conjuntos : \")\n",
        "print(\"U =\",U ,\"\\nA =\",A,\"\\nB =\",B,\"\\nC =\",C)\n",
        "print(\"*************\")\n",
        "print(\"Ejercicio 5\")\n",
        "print(\"*************\")\n",
        "print(\"Hallar : ((C ∩ A) - (B - A)') ∩ C\")\n",
        "print(\"Respuesta:\")\n",
        "interC_A = C.intersection(A)#C ∩ A\n",
        "difB_A = B.difference(A)#B - A\n",
        "comple_dif_BA = U.difference(difB_A)\n",
        "dif_interCA_difcomple_dif_BA = interC_A.difference(comple_dif_BA)#((C ∩ A) - (B - A)')\n",
        "print(\"El conjunto es vacío:\")\n",
        "dif_interCA_difcomple_dif_BA.intersection(C)"
      ],
      "metadata": {
        "colab": {
          "base_uri": "https://localhost:8080/"
        },
        "id": "hWjkP4ZrtwqL",
        "outputId": "b82eff7c-92e5-4fa4-92f3-5b6a005f78e4"
      },
      "execution_count": null,
      "outputs": [
        {
          "output_type": "stream",
          "name": "stdout",
          "text": [
            "Sean los conjuntos : \n",
            "U = {'d', 'g', 'b', 'f', 'a', 'e', 'c'} \n",
            "A = {'d', 'a', 'b', 'c'} \n",
            "B = {'g', 'b', 'e', 'c'} \n",
            "C = {'d', 'f', 'e', 'c'}\n",
            "*************\n",
            "Ejercicio 1\n",
            "*************\n",
            "Hallar : ((C ∩ A) - (B - A)') ∩ C\n",
            "Respuesta:\n",
            "El conjunto es vacío:\n"
          ]
        },
        {
          "output_type": "execute_result",
          "data": {
            "text/plain": [
              "set()"
            ]
          },
          "metadata": {},
          "execution_count": 87
        }
      ]
    },
    {
      "cell_type": "code",
      "source": [
        "#Conjuntos\n",
        "U = {'a','b','c','d','e','f','g'}\n",
        "A = {'a','b','c','d'}\n",
        "B = {'b','c','g','e'}\n",
        "C = {'c','d','e','f'}\n",
        "\n",
        "print(\"Sean los conjuntos : \")\n",
        "print(\"U =\",U ,\"\\nA =\",A,\"\\nB =\",B,\"\\nC =\",C)\n",
        "print(\"*************\")\n",
        "print(\"Ejercicio 6\")\n",
        "print(\"*************\")\n",
        "print(\"Hallar : (B - C') ∪ ((B - A') ∩ (C ∪ B))\")\n",
        "print(\"Respuesta:\")\n",
        "comple_C = U.difference(C)#C'\n",
        "comple_A = U.difference(A)#A'\n",
        "B.difference(comple_C)#B-C'\n",
        "B.difference(comple_A)#B-A'\n",
        "C.union(B)#C ∪ B\n",
        "inter = B.difference(comple_A).intersection(C.union(B))#((B - A') ∩ (C ∪ B)\n",
        "B.difference(comple_C).union(inter)"
      ],
      "metadata": {
        "colab": {
          "base_uri": "https://localhost:8080/"
        },
        "id": "SKW90vvwyqpX",
        "outputId": "7b7e1e53-6e14-4f96-9af6-fc3dac4c0114"
      },
      "execution_count": null,
      "outputs": [
        {
          "output_type": "stream",
          "name": "stdout",
          "text": [
            "Sean los conjuntos : \n",
            "U = {'d', 'g', 'b', 'f', 'a', 'e', 'c'} \n",
            "A = {'d', 'a', 'b', 'c'} \n",
            "B = {'g', 'b', 'e', 'c'} \n",
            "C = {'d', 'f', 'e', 'c'}\n",
            "*************\n",
            "Ejercicio 1\n",
            "*************\n",
            "Hallar : (B - C') ∪ ((B - A') ∩ (C ∪ B))\n",
            "Respuesta:\n"
          ]
        },
        {
          "output_type": "execute_result",
          "data": {
            "text/plain": [
              "{'b', 'c', 'e'}"
            ]
          },
          "metadata": {},
          "execution_count": 89
        }
      ]
    },
    {
      "cell_type": "code",
      "source": [
        "#Conjuntos\n",
        "U = {'a','b','c','d','e','f','g'}\n",
        "A = {'a','b','c','d'}\n",
        "B = {'b','c','g','e'}\n",
        "C = {'c','d','e','f'}\n",
        "\n",
        "print(\"Sean los conjuntos : \")\n",
        "print(\"U =\",U ,\"\\nA =\",A,\"\\nB =\",B,\"\\nC =\",C)\n",
        "print(\"*************\")\n",
        "print(\"Ejercicio 7\")\n",
        "print(\"*************\")\n",
        "print(\"Hallar : (A' ∪ B) ∩ (C' - A)\")\n",
        "print(\"Respuesta:\")\n",
        "comple_A = U.difference(A)#A'\n",
        "comple_C = U.difference(C)#C'\n",
        "comple_A.union(B)#A'∪ B\n",
        "comple_C.difference(A)#C' - A\n",
        "comple_A.union(B).intersection(comple_C.difference(A))#(A' ∪ B) ∩ (C' - A)\n"
      ],
      "metadata": {
        "colab": {
          "base_uri": "https://localhost:8080/"
        },
        "id": "JOTiAlo44UQU",
        "outputId": "f3871d07-8e51-49a1-b8dd-459dcf062608"
      },
      "execution_count": null,
      "outputs": [
        {
          "output_type": "stream",
          "name": "stdout",
          "text": [
            "Sean los conjuntos : \n",
            "U = {'d', 'g', 'b', 'f', 'a', 'e', 'c'} \n",
            "A = {'d', 'a', 'b', 'c'} \n",
            "B = {'g', 'b', 'e', 'c'} \n",
            "C = {'d', 'f', 'e', 'c'}\n",
            "*************\n",
            "Ejercicio 6\n",
            "*************\n",
            "Hallar : (A' ∪ B) ∩ (C' - A)\n",
            "Respuesta:\n"
          ]
        },
        {
          "output_type": "execute_result",
          "data": {
            "text/plain": [
              "{'g'}"
            ]
          },
          "metadata": {},
          "execution_count": 92
        }
      ]
    },
    {
      "cell_type": "markdown",
      "source": [
        "Ejercicio 8\n",
        "Un grupo de 191 estudiantes de los cuales 10 toman francés,negocios y música: 36 tomas fránces y negocios : 20 están fránces y música; 18 en negocios y música; 65 en fránces; 76 en negocios y 63 toman música.\n",
        "1.-¿Cuántos toman francés y música pero no negocios?\n",
        "2.-¿Cuántos toman negocios pero no fránces ni música?\n",
        "3.-¿Cuántos toman fránces o negocios(o ambos)?\n",
        "4.-¿Cuántos toman música o fránces(o ambos) pero no negocios?\n",
        "5.-¿Cuántos no toman ninguna de las tres materias?"
      ],
      "metadata": {
        "id": "b-_y2h-y6xPW"
      }
    },
    {
      "cell_type": "code",
      "source": [
        "fig = plt.figure(figsize=(4,4))\n",
        "print(\"Total de estudiantes: 191\",\"\\n F:Frances = 65\",\"\\n N:Negocios = 76\",\"\\n M:Musica = 63\")\n",
        "\n",
        "venn3(subsets = (19,32,26,35,10,8,10),set_labels = ('F','N','M'), alpha= 0.5);\n",
        "print(\"1.-Cuántos toman francés y música pero no negocios? \")\n",
        "print(\"Respuesta: Según el gráfico son 10 personas que toman fránces y musica pero no negocios.\")\n",
        "print(\"2.-¿Cuántos toman negocios pero no fránces ni música?\")\n",
        "print(\"Respuesta: 32 personas que toman negocios , pero no frances, ni musica\")\n",
        "print(\"3.-¿Cuántos toman fránces o negocios(o ambos)?\")\n",
        "print(\"Respuesta : 105 personas\")\n",
        "print(\"4.-¿Cuántos toman música o fránces(o ambos) pero no negocios?\")\n",
        "print(\"Respuesta: 64 personas\")\n",
        "print(\"5.-¿Cuántos no toman ninguna de las tres materias?\")\n",
        "print(\"Respuesta : 43 personas\")"
      ],
      "metadata": {
        "colab": {
          "base_uri": "https://localhost:8080/",
          "height": 592
        },
        "id": "T38cgucp6vm5",
        "outputId": "4ce3755b-f8cf-4713-ad6b-ef83148921b7"
      },
      "execution_count": null,
      "outputs": [
        {
          "output_type": "stream",
          "name": "stdout",
          "text": [
            "Total de estudiantes: 191 \n",
            " F:Frances = 65 \n",
            " N:Negocios = 76 \n",
            " M:Musica = 63\n",
            "1.-Cuántos toman francés y música pero no negocios? \n",
            "Respuesta: Según el gráfico son 10 personas que toman fránces y musica pero no negocios\n",
            "2.-¿Cuántos toman negocios pero no fránces ni música?\n",
            "Respuesta: 32 personas\n",
            "3.-¿Cuántos toman fránces o negocios(o ambos)?\n",
            "Respuesta : 105 personas\n",
            "4.-¿Cuántos toman música o fránces(o ambos) pero no negocios?\n",
            "Respuesta: 64 personas\n",
            "5.-¿Cuántos no toman ninguna de las tres materias?\n",
            "Respuesta : 43 personas\n"
          ]
        },
        {
          "output_type": "display_data",
          "data": {
            "text/plain": [
              "<Figure size 400x400 with 1 Axes>"
            ],
            "image/png": "[encoded data removed]"
          },
          "metadata": {}
        }
      ]
    }
  ],
  "metadata": {
    "colab": {
      "provenance": []
    },
    "kernelspec": {
      "display_name": "Python 3",
      "name": "python3"
    },
    "language_info": {
      "name": "python"
    }
  },
  "nbformat": 4,
  "nbformat_minor": 0
}